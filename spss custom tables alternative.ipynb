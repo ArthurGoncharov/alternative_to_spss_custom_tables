{
 "cells": [
  {
   "cell_type": "code",
   "execution_count": 1,
   "metadata": {},
   "outputs": [],
   "source": [
    "import pandas as pd\n",
    "from scipy.stats import chi2_contingency\n",
    "pd.set_option('display.max_rows', 500)\n",
    "pd.set_option('display.max_columns', 500)\n",
    "pd.set_option('display.width', 1000)"
   ]
  },
  {
   "cell_type": "code",
   "execution_count": null,
   "metadata": {},
   "outputs": [],
   "source": [
    "df = pd.read_excel('dataset.xlsx')"
   ]
  },
  {
   "cell_type": "code",
   "execution_count": null,
   "metadata": {},
   "outputs": [],
   "source": [
    "col_columns = [df.columns[3], df.columns[4]]\n",
    "row_columns = col_columns + df.columns[5:].tolist()"
   ]
  },
  {
   "cell_type": "code",
   "execution_count": 52,
   "metadata": {},
   "outputs": [],
   "source": [
    "def create_crosstab_with_significance(df, row_columns, col_columns):\n",
    "    full_table = []\n",
    "\n",
    "    for row_col in row_columns:\n",
    "        combined_section = pd.DataFrame()\n",
    "        \n",
    "        row_totals = df[row_col].value_counts().sort_index()\n",
    "        row_totals = pd.DataFrame(row_totals)\n",
    "        row_totals.index = pd.MultiIndex.from_product([[row_col], row_totals.index])\n",
    "        row_totals.columns = ['Total']\n",
    "\n",
    "        for col_col in col_columns:\n",
    "            crosstab = pd.crosstab(index=df[row_col], columns=df[col_col], margins=False)\n",
    "            total_by_col = crosstab.sum(axis=0)\n",
    "            grand_total = crosstab.values.sum()\n",
    "\n",
    "            crosstab_percent = crosstab.div(crosstab.sum(axis=1), axis=0) * 100\n",
    "            crosstab_percent = crosstab_percent.astype(object)\n",
    "            crosstab_percent.index = pd.MultiIndex.from_product([[row_col], crosstab.index])\n",
    "            multi_index_columns = [(col_col, val) for val in crosstab.columns]\n",
    "            crosstab_percent.columns = pd.MultiIndex.from_tuples(multi_index_columns)\n",
    "\n",
    "            if row_col == col_col:\n",
    "                for index in crosstab.index:\n",
    "                    for column in crosstab.columns:\n",
    "                        crosstab_percent.loc[(row_col, index), (col_col, column)] = f\"{crosstab_percent.loc[(row_col, index), (col_col, column)]:.2f}%\"\n",
    "            else:\n",
    "                for index in crosstab.index:\n",
    "                    for column in crosstab.columns:\n",
    "                        observed = crosstab.loc[index, column]\n",
    "                        row_total = row_totals.loc[(row_col, index), 'Total']\n",
    "                        col_total = total_by_col[column]\n",
    "\n",
    "                        contingency_table = [\n",
    "                            [observed, row_total - observed],\n",
    "                            [col_total, grand_total - col_total]\n",
    "                        ]\n",
    "\n",
    "                        expected_counts = [\n",
    "                            (row_total * col_total) / grand_total,\n",
    "                            (row_total * (grand_total - col_total)) / grand_total,\n",
    "                            ((grand_total - row_total) * col_total) / grand_total,\n",
    "                            ((grand_total - row_total) * (grand_total - col_total)) / grand_total\n",
    "                        ]\n",
    "\n",
    "                        if all(count >= 5 for count in expected_counts):\n",
    "                            chi2, p, _, _ = chi2_contingency(contingency_table)\n",
    "\n",
    "                            if p < 0.05:\n",
    "                                if observed > expected_counts[0]:\n",
    "                                    crosstab_percent.loc[(row_col, index), (col_col, column)] = f\"{crosstab_percent.loc[(row_col, index), (col_col, column)]:.2f}%H\"\n",
    "                                else:\n",
    "                                    crosstab_percent.loc[(row_col, index), (col_col, column)] = f\"{crosstab_percent.loc[(row_col, index), (col_col, column)]:.2f}%L\"\n",
    "                            else:\n",
    "                                crosstab_percent.loc[(row_col, index), (col_col, column)] = f\"{crosstab_percent.loc[(row_col, index), (col_col, column)]:.2f}%\"\n",
    "                        else:\n",
    "                            crosstab_percent.loc[(row_col, index), (col_col, column)] = f\"{crosstab_percent.loc[(row_col, index), (col_col, column)]:.2f}%\"\n",
    "\n",
    "            if combined_section.empty:\n",
    "                combined_section = crosstab_percent\n",
    "            else:\n",
    "                combined_section = pd.concat([combined_section, crosstab_percent], axis=1)\n",
    "\n",
    "        combined_section.insert(0, ('Total', ''), (row_totals['Total'] / grand_total * 100).map(lambda x: f\"{x:.2f}%\" if pd.notnull(x) else x) )\n",
    "\n",
    "        full_table.append(combined_section)\n",
    "\n",
    "    combined_crosstab = pd.concat(full_table, axis=0)\n",
    "    return combined_crosstab"
   ]
  },
  {
   "cell_type": "code",
   "execution_count": null,
   "metadata": {},
   "outputs": [],
   "source": [
    "def highlight_cells(val):\n",
    "    if 'H' in str(val):\n",
    "        return 'background-color: #e63946'\n",
    "    elif 'L' in str(val):\n",
    "        return 'background-color: #457b9d'\n",
    "    return ''\n",
    "\n",
    "df_crosstab_sig=create_crosstab_with_significance(df, row_columns, col_columns)\n",
    "df_crosstab_sig = df_crosstab_sig.style.map(highlight_cells)\n",
    "\n",
    "\n",
    "df_crosstab_sig"
   ]
  }
 ],
 "metadata": {
  "kernelspec": {
   "display_name": "Python 3",
   "language": "python",
   "name": "python3"
  },
  "language_info": {
   "codemirror_mode": {
    "name": "ipython",
    "version": 3
   },
   "file_extension": ".py",
   "mimetype": "text/x-python",
   "name": "python",
   "nbconvert_exporter": "python",
   "pygments_lexer": "ipython3",
   "version": "3.9.6"
  }
 },
 "nbformat": 4,
 "nbformat_minor": 2
}
